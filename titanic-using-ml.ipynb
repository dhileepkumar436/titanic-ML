{
 "cells": [
  {
   "cell_type": "code",
   "execution_count": 1,
   "id": "6b4af9b1",
   "metadata": {
    "_cell_guid": "b1076dfc-b9ad-4769-8c92-a6c4dae69d19",
    "_uuid": "8f2839f25d086af736a60e9eeb907d3b93b6e0e5",
    "execution": {
     "iopub.execute_input": "2023-06-29T12:56:25.349661Z",
     "iopub.status.busy": "2023-06-29T12:56:25.349119Z",
     "iopub.status.idle": "2023-06-29T12:56:25.365829Z",
     "shell.execute_reply": "2023-06-29T12:56:25.363211Z"
    },
    "papermill": {
     "duration": 0.033312,
     "end_time": "2023-06-29T12:56:25.369436",
     "exception": false,
     "start_time": "2023-06-29T12:56:25.336124",
     "status": "completed"
    },
    "tags": []
   },
   "outputs": [
    {
     "name": "stdout",
     "output_type": "stream",
     "text": [
      "/kaggle/input/titanic/train.csv\n",
      "/kaggle/input/titanic/test.csv\n",
      "/kaggle/input/titanic/gender_submission.csv\n"
     ]
    }
   ],
   "source": [
    "# This Python 3 environment comes with many helpful analytics libraries installed\n",
    "# It is defined by the kaggle/python Docker image: https://github.com/kaggle/docker-python\n",
    "# For example, here's several helpful packages to load\n",
    "\n",
    "import numpy as np # linear algebra\n",
    "import pandas as pd # data processing, CSV file I/O (e.g. pd.read_csv)\n",
    "\n",
    "# Input data files are available in the read-only \"../input/\" directory\n",
    "# For example, running this (by clicking run or pressing Shift+Enter) will list all files under the input directory\n",
    "\n",
    "import os\n",
    "for dirname, _, filenames in os.walk('/kaggle/input'):\n",
    "    for filename in filenames:\n",
    "        print(os.path.join(dirname, filename))\n",
    "\n",
    "# You can write up to 20GB to the current directory (/kaggle/working/) that gets preserved as output when you create a version using \"Save & Run All\" \n",
    "# You can also write temporary files to /kaggle/temp/, but they won't be saved outside of the current session"
   ]
  },
  {
   "cell_type": "markdown",
   "id": "8251eac7",
   "metadata": {
    "papermill": {
     "duration": 0.010573,
     "end_time": "2023-06-29T12:56:25.391764",
     "exception": false,
     "start_time": "2023-06-29T12:56:25.381191",
     "status": "completed"
    },
    "tags": []
   },
   "source": [
    "# 1.Titanic"
   ]
  },
  {
   "cell_type": "markdown",
   "id": "8d40c9d3",
   "metadata": {
    "papermill": {
     "duration": 0.010362,
     "end_time": "2023-06-29T12:56:25.412917",
     "exception": false,
     "start_time": "2023-06-29T12:56:25.402555",
     "status": "completed"
    },
    "tags": []
   },
   "source": [
    "   RMS Titanic was a British passenger liner, operated by the White Star Line, that sank in the North Atlantic Ocean on 15 April 1912 after striking an iceberg during her maiden voyage from Southampton, England to New York City, United States. \n",
    "     Of the estimated 2,224 passengers and crew aboard, more than 1,500 died, making it the deadliest sinking of a single ship up to that time. It remains the deadliest peacetime sinking of an ocean liner or cruise ship.The disaster drew public attention, provided foundational material for the disaster film genre, and has inspired many artistic works."
   ]
  },
  {
   "cell_type": "markdown",
   "id": "b2d4802a",
   "metadata": {
    "papermill": {
     "duration": 0.010548,
     "end_time": "2023-06-29T12:56:25.434830",
     "exception": false,
     "start_time": "2023-06-29T12:56:25.424282",
     "status": "completed"
    },
    "tags": []
   },
   "source": [
    "# 2.Import libraries"
   ]
  },
  {
   "cell_type": "code",
   "execution_count": 2,
   "id": "a67a8a17",
   "metadata": {
    "execution": {
     "iopub.execute_input": "2023-06-29T12:56:25.458429Z",
     "iopub.status.busy": "2023-06-29T12:56:25.457944Z",
     "iopub.status.idle": "2023-06-29T12:56:27.785179Z",
     "shell.execute_reply": "2023-06-29T12:56:27.783730Z"
    },
    "papermill": {
     "duration": 2.342122,
     "end_time": "2023-06-29T12:56:27.787782",
     "exception": false,
     "start_time": "2023-06-29T12:56:25.445660",
     "status": "completed"
    },
    "tags": []
   },
   "outputs": [
    {
     "name": "stderr",
     "output_type": "stream",
     "text": [
      "/opt/conda/lib/python3.10/site-packages/sklearn/experimental/enable_hist_gradient_boosting.py:16: UserWarning: Since version 1.0, it is not needed to import enable_hist_gradient_boosting anymore. HistGradientBoostingClassifier and HistGradientBoostingRegressor are now stable and can be normally imported from sklearn.ensemble.\n",
      "  warnings.warn(\n"
     ]
    }
   ],
   "source": [
    "import numpy as np\n",
    "import pandas as pd\n",
    "import seaborn as sns\n",
    "import matplotlib.pyplot as plt\n",
    "import time\n",
    "import math\n",
    "import matplotlib.patches as mpatches\n",
    "\n",
    "from sklearn.model_selection import train_test_split\n",
    "from sklearn.model_selection import cross_val_score\n",
    "\n",
    "#Models\n",
    "from sklearn import tree\n",
    "from sklearn.tree import DecisionTreeRegressor\n",
    "from sklearn.tree import DecisionTreeClassifier\n",
    "from sklearn.linear_model import LinearRegression\n",
    "from sklearn.linear_model import Ridge\n",
    "from sklearn.naive_bayes import BernoulliNB\n",
    "from sklearn.ensemble import RandomForestRegressor\n",
    "from sklearn.experimental import enable_hist_gradient_boosting\n",
    "from sklearn.ensemble import HistGradientBoostingRegressor\n",
    "#use sklearn.metrics.mean_squared_error() AND math.sqrt() to get RMSE\n",
    "from sklearn.metrics import mean_squared_error\n",
    "from sklearn.linear_model import LogisticRegression\n",
    "#set a random_state to be used in the notebook\n",
    "random_state = 7"
   ]
  },
  {
   "cell_type": "code",
   "execution_count": 3,
   "id": "cbd80c27",
   "metadata": {
    "execution": {
     "iopub.execute_input": "2023-06-29T12:56:27.812811Z",
     "iopub.status.busy": "2023-06-29T12:56:27.812081Z",
     "iopub.status.idle": "2023-06-29T12:56:27.817665Z",
     "shell.execute_reply": "2023-06-29T12:56:27.816443Z"
    },
    "papermill": {
     "duration": 0.021312,
     "end_time": "2023-06-29T12:56:27.820208",
     "exception": false,
     "start_time": "2023-06-29T12:56:27.798896",
     "status": "completed"
    },
    "tags": []
   },
   "outputs": [],
   "source": [
    "from sklearn.metrics import accuracy_score,precision_score,confusion_matrix"
   ]
  },
  {
   "cell_type": "markdown",
   "id": "4ca1dee6",
   "metadata": {
    "papermill": {
     "duration": 0.010992,
     "end_time": "2023-06-29T12:56:27.842119",
     "exception": false,
     "start_time": "2023-06-29T12:56:27.831127",
     "status": "completed"
    },
    "tags": []
   },
   "source": [
    "# 3.Load dataset"
   ]
  },
  {
   "cell_type": "code",
   "execution_count": 4,
   "id": "d004936d",
   "metadata": {
    "execution": {
     "iopub.execute_input": "2023-06-29T12:56:27.865799Z",
     "iopub.status.busy": "2023-06-29T12:56:27.865371Z",
     "iopub.status.idle": "2023-06-29T12:56:27.900189Z",
     "shell.execute_reply": "2023-06-29T12:56:27.899151Z"
    },
    "papermill": {
     "duration": 0.049958,
     "end_time": "2023-06-29T12:56:27.902872",
     "exception": false,
     "start_time": "2023-06-29T12:56:27.852914",
     "status": "completed"
    },
    "tags": []
   },
   "outputs": [],
   "source": [
    "train_df= pd.read_csv(\"/kaggle/input/titanic/train.csv\")\n",
    "test_df=pd.read_csv(\"/kaggle/input/titanic/test.csv\")"
   ]
  },
  {
   "cell_type": "markdown",
   "id": "8360f344",
   "metadata": {
    "papermill": {
     "duration": 0.010573,
     "end_time": "2023-06-29T12:56:27.924493",
     "exception": false,
     "start_time": "2023-06-29T12:56:27.913920",
     "status": "completed"
    },
    "tags": []
   },
   "source": [
    "# 4.Basic EDA"
   ]
  },
  {
   "cell_type": "code",
   "execution_count": 5,
   "id": "fac21190",
   "metadata": {
    "execution": {
     "iopub.execute_input": "2023-06-29T12:56:27.949479Z",
     "iopub.status.busy": "2023-06-29T12:56:27.948791Z",
     "iopub.status.idle": "2023-06-29T12:56:27.985275Z",
     "shell.execute_reply": "2023-06-29T12:56:27.984056Z"
    },
    "papermill": {
     "duration": 0.051684,
     "end_time": "2023-06-29T12:56:27.987674",
     "exception": false,
     "start_time": "2023-06-29T12:56:27.935990",
     "status": "completed"
    },
    "tags": []
   },
   "outputs": [
    {
     "data": {
      "text/html": [
       "<div>\n",
       "<style scoped>\n",
       "    .dataframe tbody tr th:only-of-type {\n",
       "        vertical-align: middle;\n",
       "    }\n",
       "\n",
       "    .dataframe tbody tr th {\n",
       "        vertical-align: top;\n",
       "    }\n",
       "\n",
       "    .dataframe thead th {\n",
       "        text-align: right;\n",
       "    }\n",
       "</style>\n",
       "<table border=\"1\" class=\"dataframe\">\n",
       "  <thead>\n",
       "    <tr style=\"text-align: right;\">\n",
       "      <th></th>\n",
       "      <th>PassengerId</th>\n",
       "      <th>Survived</th>\n",
       "      <th>Pclass</th>\n",
       "      <th>Name</th>\n",
       "      <th>Sex</th>\n",
       "      <th>Age</th>\n",
       "      <th>SibSp</th>\n",
       "      <th>Parch</th>\n",
       "      <th>Ticket</th>\n",
       "      <th>Fare</th>\n",
       "      <th>Cabin</th>\n",
       "      <th>Embarked</th>\n",
       "    </tr>\n",
       "  </thead>\n",
       "  <tbody>\n",
       "    <tr>\n",
       "      <th>0</th>\n",
       "      <td>1</td>\n",
       "      <td>0</td>\n",
       "      <td>3</td>\n",
       "      <td>Braund, Mr. Owen Harris</td>\n",
       "      <td>male</td>\n",
       "      <td>22.0</td>\n",
       "      <td>1</td>\n",
       "      <td>0</td>\n",
       "      <td>A/5 21171</td>\n",
       "      <td>7.2500</td>\n",
       "      <td>NaN</td>\n",
       "      <td>S</td>\n",
       "    </tr>\n",
       "    <tr>\n",
       "      <th>1</th>\n",
       "      <td>2</td>\n",
       "      <td>1</td>\n",
       "      <td>1</td>\n",
       "      <td>Cumings, Mrs. John Bradley (Florence Briggs Th...</td>\n",
       "      <td>female</td>\n",
       "      <td>38.0</td>\n",
       "      <td>1</td>\n",
       "      <td>0</td>\n",
       "      <td>PC 17599</td>\n",
       "      <td>71.2833</td>\n",
       "      <td>C85</td>\n",
       "      <td>C</td>\n",
       "    </tr>\n",
       "    <tr>\n",
       "      <th>2</th>\n",
       "      <td>3</td>\n",
       "      <td>1</td>\n",
       "      <td>3</td>\n",
       "      <td>Heikkinen, Miss. Laina</td>\n",
       "      <td>female</td>\n",
       "      <td>26.0</td>\n",
       "      <td>0</td>\n",
       "      <td>0</td>\n",
       "      <td>STON/O2. 3101282</td>\n",
       "      <td>7.9250</td>\n",
       "      <td>NaN</td>\n",
       "      <td>S</td>\n",
       "    </tr>\n",
       "    <tr>\n",
       "      <th>3</th>\n",
       "      <td>4</td>\n",
       "      <td>1</td>\n",
       "      <td>1</td>\n",
       "      <td>Futrelle, Mrs. Jacques Heath (Lily May Peel)</td>\n",
       "      <td>female</td>\n",
       "      <td>35.0</td>\n",
       "      <td>1</td>\n",
       "      <td>0</td>\n",
       "      <td>113803</td>\n",
       "      <td>53.1000</td>\n",
       "      <td>C123</td>\n",
       "      <td>S</td>\n",
       "    </tr>\n",
       "    <tr>\n",
       "      <th>4</th>\n",
       "      <td>5</td>\n",
       "      <td>0</td>\n",
       "      <td>3</td>\n",
       "      <td>Allen, Mr. William Henry</td>\n",
       "      <td>male</td>\n",
       "      <td>35.0</td>\n",
       "      <td>0</td>\n",
       "      <td>0</td>\n",
       "      <td>373450</td>\n",
       "      <td>8.0500</td>\n",
       "      <td>NaN</td>\n",
       "      <td>S</td>\n",
       "    </tr>\n",
       "  </tbody>\n",
       "</table>\n",
       "</div>"
      ],
      "text/plain": [
       "   PassengerId  Survived  Pclass  \\\n",
       "0            1         0       3   \n",
       "1            2         1       1   \n",
       "2            3         1       3   \n",
       "3            4         1       1   \n",
       "4            5         0       3   \n",
       "\n",
       "                                                Name     Sex   Age  SibSp  \\\n",
       "0                            Braund, Mr. Owen Harris    male  22.0      1   \n",
       "1  Cumings, Mrs. John Bradley (Florence Briggs Th...  female  38.0      1   \n",
       "2                             Heikkinen, Miss. Laina  female  26.0      0   \n",
       "3       Futrelle, Mrs. Jacques Heath (Lily May Peel)  female  35.0      1   \n",
       "4                           Allen, Mr. William Henry    male  35.0      0   \n",
       "\n",
       "   Parch            Ticket     Fare Cabin Embarked  \n",
       "0      0         A/5 21171   7.2500   NaN        S  \n",
       "1      0          PC 17599  71.2833   C85        C  \n",
       "2      0  STON/O2. 3101282   7.9250   NaN        S  \n",
       "3      0            113803  53.1000  C123        S  \n",
       "4      0            373450   8.0500   NaN        S  "
      ]
     },
     "execution_count": 5,
     "metadata": {},
     "output_type": "execute_result"
    }
   ],
   "source": [
    "train_df.head()"
   ]
  },
  {
   "cell_type": "code",
   "execution_count": 6,
   "id": "d5ed1f04",
   "metadata": {
    "execution": {
     "iopub.execute_input": "2023-06-29T12:56:28.012097Z",
     "iopub.status.busy": "2023-06-29T12:56:28.011435Z",
     "iopub.status.idle": "2023-06-29T12:56:28.027140Z",
     "shell.execute_reply": "2023-06-29T12:56:28.025863Z"
    },
    "papermill": {
     "duration": 0.030805,
     "end_time": "2023-06-29T12:56:28.029535",
     "exception": false,
     "start_time": "2023-06-29T12:56:27.998730",
     "status": "completed"
    },
    "tags": []
   },
   "outputs": [
    {
     "data": {
      "text/html": [
       "<div>\n",
       "<style scoped>\n",
       "    .dataframe tbody tr th:only-of-type {\n",
       "        vertical-align: middle;\n",
       "    }\n",
       "\n",
       "    .dataframe tbody tr th {\n",
       "        vertical-align: top;\n",
       "    }\n",
       "\n",
       "    .dataframe thead th {\n",
       "        text-align: right;\n",
       "    }\n",
       "</style>\n",
       "<table border=\"1\" class=\"dataframe\">\n",
       "  <thead>\n",
       "    <tr style=\"text-align: right;\">\n",
       "      <th></th>\n",
       "      <th>PassengerId</th>\n",
       "      <th>Survived</th>\n",
       "      <th>Pclass</th>\n",
       "      <th>Name</th>\n",
       "      <th>Sex</th>\n",
       "      <th>Age</th>\n",
       "      <th>SibSp</th>\n",
       "      <th>Parch</th>\n",
       "      <th>Ticket</th>\n",
       "      <th>Fare</th>\n",
       "      <th>Cabin</th>\n",
       "      <th>Embarked</th>\n",
       "    </tr>\n",
       "  </thead>\n",
       "  <tbody>\n",
       "    <tr>\n",
       "      <th>886</th>\n",
       "      <td>887</td>\n",
       "      <td>0</td>\n",
       "      <td>2</td>\n",
       "      <td>Montvila, Rev. Juozas</td>\n",
       "      <td>male</td>\n",
       "      <td>27.0</td>\n",
       "      <td>0</td>\n",
       "      <td>0</td>\n",
       "      <td>211536</td>\n",
       "      <td>13.00</td>\n",
       "      <td>NaN</td>\n",
       "      <td>S</td>\n",
       "    </tr>\n",
       "    <tr>\n",
       "      <th>887</th>\n",
       "      <td>888</td>\n",
       "      <td>1</td>\n",
       "      <td>1</td>\n",
       "      <td>Graham, Miss. Margaret Edith</td>\n",
       "      <td>female</td>\n",
       "      <td>19.0</td>\n",
       "      <td>0</td>\n",
       "      <td>0</td>\n",
       "      <td>112053</td>\n",
       "      <td>30.00</td>\n",
       "      <td>B42</td>\n",
       "      <td>S</td>\n",
       "    </tr>\n",
       "    <tr>\n",
       "      <th>888</th>\n",
       "      <td>889</td>\n",
       "      <td>0</td>\n",
       "      <td>3</td>\n",
       "      <td>Johnston, Miss. Catherine Helen \"Carrie\"</td>\n",
       "      <td>female</td>\n",
       "      <td>NaN</td>\n",
       "      <td>1</td>\n",
       "      <td>2</td>\n",
       "      <td>W./C. 6607</td>\n",
       "      <td>23.45</td>\n",
       "      <td>NaN</td>\n",
       "      <td>S</td>\n",
       "    </tr>\n",
       "    <tr>\n",
       "      <th>889</th>\n",
       "      <td>890</td>\n",
       "      <td>1</td>\n",
       "      <td>1</td>\n",
       "      <td>Behr, Mr. Karl Howell</td>\n",
       "      <td>male</td>\n",
       "      <td>26.0</td>\n",
       "      <td>0</td>\n",
       "      <td>0</td>\n",
       "      <td>111369</td>\n",
       "      <td>30.00</td>\n",
       "      <td>C148</td>\n",
       "      <td>C</td>\n",
       "    </tr>\n",
       "    <tr>\n",
       "      <th>890</th>\n",
       "      <td>891</td>\n",
       "      <td>0</td>\n",
       "      <td>3</td>\n",
       "      <td>Dooley, Mr. Patrick</td>\n",
       "      <td>male</td>\n",
       "      <td>32.0</td>\n",
       "      <td>0</td>\n",
       "      <td>0</td>\n",
       "      <td>370376</td>\n",
       "      <td>7.75</td>\n",
       "      <td>NaN</td>\n",
       "      <td>Q</td>\n",
       "    </tr>\n",
       "  </tbody>\n",
       "</table>\n",
       "</div>"
      ],
      "text/plain": [
       "     PassengerId  Survived  Pclass                                      Name  \\\n",
       "886          887         0       2                     Montvila, Rev. Juozas   \n",
       "887          888         1       1              Graham, Miss. Margaret Edith   \n",
       "888          889         0       3  Johnston, Miss. Catherine Helen \"Carrie\"   \n",
       "889          890         1       1                     Behr, Mr. Karl Howell   \n",
       "890          891         0       3                       Dooley, Mr. Patrick   \n",
       "\n",
       "        Sex   Age  SibSp  Parch      Ticket   Fare Cabin Embarked  \n",
       "886    male  27.0      0      0      211536  13.00   NaN        S  \n",
       "887  female  19.0      0      0      112053  30.00   B42        S  \n",
       "888  female   NaN      1      2  W./C. 6607  23.45   NaN        S  \n",
       "889    male  26.0      0      0      111369  30.00  C148        C  \n",
       "890    male  32.0      0      0      370376   7.75   NaN        Q  "
      ]
     },
     "execution_count": 6,
     "metadata": {},
     "output_type": "execute_result"
    }
   ],
   "source": [
    "train_df.tail()"
   ]
  },
  {
   "cell_type": "code",
   "execution_count": 7,
   "id": "598a7435",
   "metadata": {
    "execution": {
     "iopub.execute_input": "2023-06-29T12:56:28.055637Z",
     "iopub.status.busy": "2023-06-29T12:56:28.054821Z",
     "iopub.status.idle": "2023-06-29T12:56:28.086434Z",
     "shell.execute_reply": "2023-06-29T12:56:28.084872Z"
    },
    "papermill": {
     "duration": 0.048717,
     "end_time": "2023-06-29T12:56:28.089591",
     "exception": false,
     "start_time": "2023-06-29T12:56:28.040874",
     "status": "completed"
    },
    "tags": []
   },
   "outputs": [
    {
     "name": "stdout",
     "output_type": "stream",
     "text": [
      "<class 'pandas.core.frame.DataFrame'>\n",
      "RangeIndex: 891 entries, 0 to 890\n",
      "Data columns (total 12 columns):\n",
      " #   Column       Non-Null Count  Dtype  \n",
      "---  ------       --------------  -----  \n",
      " 0   PassengerId  891 non-null    int64  \n",
      " 1   Survived     891 non-null    int64  \n",
      " 2   Pclass       891 non-null    int64  \n",
      " 3   Name         891 non-null    object \n",
      " 4   Sex          891 non-null    object \n",
      " 5   Age          714 non-null    float64\n",
      " 6   SibSp        891 non-null    int64  \n",
      " 7   Parch        891 non-null    int64  \n",
      " 8   Ticket       891 non-null    object \n",
      " 9   Fare         891 non-null    float64\n",
      " 10  Cabin        204 non-null    object \n",
      " 11  Embarked     889 non-null    object \n",
      "dtypes: float64(2), int64(5), object(5)\n",
      "memory usage: 83.7+ KB\n"
     ]
    }
   ],
   "source": [
    "train_df.info()"
   ]
  },
  {
   "cell_type": "code",
   "execution_count": 8,
   "id": "270ba1fd",
   "metadata": {
    "execution": {
     "iopub.execute_input": "2023-06-29T12:56:28.115638Z",
     "iopub.status.busy": "2023-06-29T12:56:28.115211Z",
     "iopub.status.idle": "2023-06-29T12:56:28.154773Z",
     "shell.execute_reply": "2023-06-29T12:56:28.153576Z"
    },
    "papermill": {
     "duration": 0.055402,
     "end_time": "2023-06-29T12:56:28.157165",
     "exception": false,
     "start_time": "2023-06-29T12:56:28.101763",
     "status": "completed"
    },
    "tags": []
   },
   "outputs": [
    {
     "data": {
      "text/html": [
       "<div>\n",
       "<style scoped>\n",
       "    .dataframe tbody tr th:only-of-type {\n",
       "        vertical-align: middle;\n",
       "    }\n",
       "\n",
       "    .dataframe tbody tr th {\n",
       "        vertical-align: top;\n",
       "    }\n",
       "\n",
       "    .dataframe thead th {\n",
       "        text-align: right;\n",
       "    }\n",
       "</style>\n",
       "<table border=\"1\" class=\"dataframe\">\n",
       "  <thead>\n",
       "    <tr style=\"text-align: right;\">\n",
       "      <th></th>\n",
       "      <th>PassengerId</th>\n",
       "      <th>Survived</th>\n",
       "      <th>Pclass</th>\n",
       "      <th>Age</th>\n",
       "      <th>SibSp</th>\n",
       "      <th>Parch</th>\n",
       "      <th>Fare</th>\n",
       "    </tr>\n",
       "  </thead>\n",
       "  <tbody>\n",
       "    <tr>\n",
       "      <th>count</th>\n",
       "      <td>891.000000</td>\n",
       "      <td>891.000000</td>\n",
       "      <td>891.000000</td>\n",
       "      <td>714.000000</td>\n",
       "      <td>891.000000</td>\n",
       "      <td>891.000000</td>\n",
       "      <td>891.000000</td>\n",
       "    </tr>\n",
       "    <tr>\n",
       "      <th>mean</th>\n",
       "      <td>446.000000</td>\n",
       "      <td>0.383838</td>\n",
       "      <td>2.308642</td>\n",
       "      <td>29.699118</td>\n",
       "      <td>0.523008</td>\n",
       "      <td>0.381594</td>\n",
       "      <td>32.204208</td>\n",
       "    </tr>\n",
       "    <tr>\n",
       "      <th>std</th>\n",
       "      <td>257.353842</td>\n",
       "      <td>0.486592</td>\n",
       "      <td>0.836071</td>\n",
       "      <td>14.526497</td>\n",
       "      <td>1.102743</td>\n",
       "      <td>0.806057</td>\n",
       "      <td>49.693429</td>\n",
       "    </tr>\n",
       "    <tr>\n",
       "      <th>min</th>\n",
       "      <td>1.000000</td>\n",
       "      <td>0.000000</td>\n",
       "      <td>1.000000</td>\n",
       "      <td>0.420000</td>\n",
       "      <td>0.000000</td>\n",
       "      <td>0.000000</td>\n",
       "      <td>0.000000</td>\n",
       "    </tr>\n",
       "    <tr>\n",
       "      <th>25%</th>\n",
       "      <td>223.500000</td>\n",
       "      <td>0.000000</td>\n",
       "      <td>2.000000</td>\n",
       "      <td>20.125000</td>\n",
       "      <td>0.000000</td>\n",
       "      <td>0.000000</td>\n",
       "      <td>7.910400</td>\n",
       "    </tr>\n",
       "    <tr>\n",
       "      <th>50%</th>\n",
       "      <td>446.000000</td>\n",
       "      <td>0.000000</td>\n",
       "      <td>3.000000</td>\n",
       "      <td>28.000000</td>\n",
       "      <td>0.000000</td>\n",
       "      <td>0.000000</td>\n",
       "      <td>14.454200</td>\n",
       "    </tr>\n",
       "    <tr>\n",
       "      <th>75%</th>\n",
       "      <td>668.500000</td>\n",
       "      <td>1.000000</td>\n",
       "      <td>3.000000</td>\n",
       "      <td>38.000000</td>\n",
       "      <td>1.000000</td>\n",
       "      <td>0.000000</td>\n",
       "      <td>31.000000</td>\n",
       "    </tr>\n",
       "    <tr>\n",
       "      <th>max</th>\n",
       "      <td>891.000000</td>\n",
       "      <td>1.000000</td>\n",
       "      <td>3.000000</td>\n",
       "      <td>80.000000</td>\n",
       "      <td>8.000000</td>\n",
       "      <td>6.000000</td>\n",
       "      <td>512.329200</td>\n",
       "    </tr>\n",
       "  </tbody>\n",
       "</table>\n",
       "</div>"
      ],
      "text/plain": [
       "       PassengerId    Survived      Pclass         Age       SibSp  \\\n",
       "count   891.000000  891.000000  891.000000  714.000000  891.000000   \n",
       "mean    446.000000    0.383838    2.308642   29.699118    0.523008   \n",
       "std     257.353842    0.486592    0.836071   14.526497    1.102743   \n",
       "min       1.000000    0.000000    1.000000    0.420000    0.000000   \n",
       "25%     223.500000    0.000000    2.000000   20.125000    0.000000   \n",
       "50%     446.000000    0.000000    3.000000   28.000000    0.000000   \n",
       "75%     668.500000    1.000000    3.000000   38.000000    1.000000   \n",
       "max     891.000000    1.000000    3.000000   80.000000    8.000000   \n",
       "\n",
       "            Parch        Fare  \n",
       "count  891.000000  891.000000  \n",
       "mean     0.381594   32.204208  \n",
       "std      0.806057   49.693429  \n",
       "min      0.000000    0.000000  \n",
       "25%      0.000000    7.910400  \n",
       "50%      0.000000   14.454200  \n",
       "75%      0.000000   31.000000  \n",
       "max      6.000000  512.329200  "
      ]
     },
     "execution_count": 8,
     "metadata": {},
     "output_type": "execute_result"
    }
   ],
   "source": [
    "train_df.describe()"
   ]
  },
  {
   "cell_type": "code",
   "execution_count": 9,
   "id": "b9ea7202",
   "metadata": {
    "execution": {
     "iopub.execute_input": "2023-06-29T12:56:28.182923Z",
     "iopub.status.busy": "2023-06-29T12:56:28.181891Z",
     "iopub.status.idle": "2023-06-29T12:56:28.193014Z",
     "shell.execute_reply": "2023-06-29T12:56:28.191962Z"
    },
    "papermill": {
     "duration": 0.026673,
     "end_time": "2023-06-29T12:56:28.195591",
     "exception": false,
     "start_time": "2023-06-29T12:56:28.168918",
     "status": "completed"
    },
    "tags": []
   },
   "outputs": [
    {
     "data": {
      "text/plain": [
       "PassengerId      0\n",
       "Survived         0\n",
       "Pclass           0\n",
       "Name             0\n",
       "Sex              0\n",
       "Age            177\n",
       "SibSp            0\n",
       "Parch            0\n",
       "Ticket           0\n",
       "Fare             0\n",
       "Cabin          687\n",
       "Embarked         2\n",
       "dtype: int64"
      ]
     },
     "execution_count": 9,
     "metadata": {},
     "output_type": "execute_result"
    }
   ],
   "source": [
    "train_df.isnull().sum()"
   ]
  },
  {
   "cell_type": "markdown",
   "id": "392aef6f",
   "metadata": {
    "papermill": {
     "duration": 0.01188,
     "end_time": "2023-06-29T12:56:28.219332",
     "exception": false,
     "start_time": "2023-06-29T12:56:28.207452",
     "status": "completed"
    },
    "tags": []
   },
   "source": [
    "There is null values in the age,cabin and enbarked .so that we need to remove that columns."
   ]
  },
  {
   "cell_type": "code",
   "execution_count": 10,
   "id": "b0b02053",
   "metadata": {
    "execution": {
     "iopub.execute_input": "2023-06-29T12:56:28.245740Z",
     "iopub.status.busy": "2023-06-29T12:56:28.244526Z",
     "iopub.status.idle": "2023-06-29T12:56:28.254955Z",
     "shell.execute_reply": "2023-06-29T12:56:28.253816Z"
    },
    "papermill": {
     "duration": 0.026207,
     "end_time": "2023-06-29T12:56:28.257602",
     "exception": false,
     "start_time": "2023-06-29T12:56:28.231395",
     "status": "completed"
    },
    "tags": []
   },
   "outputs": [],
   "source": [
    "train=train_df.dropna(subset=['Age','Cabin','Embarked'])"
   ]
  },
  {
   "cell_type": "code",
   "execution_count": 11,
   "id": "28607b9e",
   "metadata": {
    "execution": {
     "iopub.execute_input": "2023-06-29T12:56:28.283809Z",
     "iopub.status.busy": "2023-06-29T12:56:28.283376Z",
     "iopub.status.idle": "2023-06-29T12:56:28.293234Z",
     "shell.execute_reply": "2023-06-29T12:56:28.292144Z"
    },
    "papermill": {
     "duration": 0.02564,
     "end_time": "2023-06-29T12:56:28.295452",
     "exception": false,
     "start_time": "2023-06-29T12:56:28.269812",
     "status": "completed"
    },
    "tags": []
   },
   "outputs": [
    {
     "data": {
      "text/plain": [
       "PassengerId    0\n",
       "Survived       0\n",
       "Pclass         0\n",
       "Name           0\n",
       "Sex            0\n",
       "Age            0\n",
       "SibSp          0\n",
       "Parch          0\n",
       "Ticket         0\n",
       "Fare           0\n",
       "Cabin          0\n",
       "Embarked       0\n",
       "dtype: int64"
      ]
     },
     "execution_count": 11,
     "metadata": {},
     "output_type": "execute_result"
    }
   ],
   "source": [
    "train.isnull().sum()"
   ]
  },
  {
   "cell_type": "code",
   "execution_count": 12,
   "id": "b10fb375",
   "metadata": {
    "execution": {
     "iopub.execute_input": "2023-06-29T12:56:28.323531Z",
     "iopub.status.busy": "2023-06-29T12:56:28.322832Z",
     "iopub.status.idle": "2023-06-29T12:56:28.550035Z",
     "shell.execute_reply": "2023-06-29T12:56:28.548917Z"
    },
    "papermill": {
     "duration": 0.243651,
     "end_time": "2023-06-29T12:56:28.552417",
     "exception": false,
     "start_time": "2023-06-29T12:56:28.308766",
     "status": "completed"
    },
    "tags": []
   },
   "outputs": [
    {
     "data": {
      "text/plain": [
       "<Axes: xlabel='Sex', ylabel='count'>"
      ]
     },
     "execution_count": 12,
     "metadata": {},
     "output_type": "execute_result"
    },
    {
     "data": {
      "image/png": "[encoded data removed]",
      "text/plain": [
       "<Figure size 640x480 with 1 Axes>"
      ]
     },
     "metadata": {},
     "output_type": "display_data"
    }
   ],
   "source": [
    "sns.countplot(x='Sex',data=train)"
   ]
  },
  {
   "cell_type": "code",
   "execution_count": 13,
   "id": "49cbe4dc",
   "metadata": {
    "execution": {
     "iopub.execute_input": "2023-06-29T12:56:28.579561Z",
     "iopub.status.busy": "2023-06-29T12:56:28.578747Z",
     "iopub.status.idle": "2023-06-29T12:56:28.798123Z",
     "shell.execute_reply": "2023-06-29T12:56:28.796955Z"
    },
    "papermill": {
     "duration": 0.235587,
     "end_time": "2023-06-29T12:56:28.800513",
     "exception": false,
     "start_time": "2023-06-29T12:56:28.564926",
     "status": "completed"
    },
    "tags": []
   },
   "outputs": [
    {
     "data": {
      "text/plain": [
       "<Axes: xlabel='Survived', ylabel='count'>"
      ]
     },
     "execution_count": 13,
     "metadata": {},
     "output_type": "execute_result"
    },
    {
     "data": {
      "image/png": "[encoded data removed]",
      "text/plain": [
       "<Figure size 640x480 with 1 Axes>"
      ]
     },
     "metadata": {},
     "output_type": "display_data"
    }
   ],
   "source": [
    "sns.countplot(x='Survived',data=train)"
   ]
  },
  {
   "cell_type": "code",
   "execution_count": 14,
   "id": "f2943d53",
   "metadata": {
    "execution": {
     "iopub.execute_input": "2023-06-29T12:56:28.828220Z",
     "iopub.status.busy": "2023-06-29T12:56:28.827531Z",
     "iopub.status.idle": "2023-06-29T12:56:28.956515Z",
     "shell.execute_reply": "2023-06-29T12:56:28.955198Z"
    },
    "papermill": {
     "duration": 0.147279,
     "end_time": "2023-06-29T12:56:28.960376",
     "exception": false,
     "start_time": "2023-06-29T12:56:28.813097",
     "status": "completed"
    },
    "tags": []
   },
   "outputs": [
    {
     "data": {
      "image/png": "[encoded data removed]",
      "text/plain": [
       "<Figure size 500x500 with 1 Axes>"
      ]
     },
     "metadata": {},
     "output_type": "display_data"
    }
   ],
   "source": [
    "plt.subplots(figsize=(5,5))\n",
    "plt.pie(train[\"Survived\"].value_counts(),labels=[\"Died\",\"Alive\"],autopct=\"%1.1f%%\")\n",
    "plt.show()"
   ]
  },
  {
   "cell_type": "code",
   "execution_count": 15,
   "id": "9a71c445",
   "metadata": {
    "execution": {
     "iopub.execute_input": "2023-06-29T12:56:29.007597Z",
     "iopub.status.busy": "2023-06-29T12:56:29.006602Z",
     "iopub.status.idle": "2023-06-29T12:56:29.251549Z",
     "shell.execute_reply": "2023-06-29T12:56:29.250022Z"
    },
    "papermill": {
     "duration": 0.271941,
     "end_time": "2023-06-29T12:56:29.253792",
     "exception": false,
     "start_time": "2023-06-29T12:56:28.981851",
     "status": "completed"
    },
    "tags": []
   },
   "outputs": [
    {
     "data": {
      "text/plain": [
       "<Axes: xlabel='Pclass', ylabel='count'>"
      ]
     },
     "execution_count": 15,
     "metadata": {},
     "output_type": "execute_result"
    },
    {
     "data": {
      "image/png": "[encoded data removed]",
      "text/plain": [
       "<Figure size 640x480 with 1 Axes>"
      ]
     },
     "metadata": {},
     "output_type": "display_data"
    }
   ],
   "source": [
    "sns.countplot(x='Pclass',data=train)"
   ]
  },
  {
   "cell_type": "code",
   "execution_count": 16,
   "id": "f33c96ef",
   "metadata": {
    "execution": {
     "iopub.execute_input": "2023-06-29T12:56:29.282579Z",
     "iopub.status.busy": "2023-06-29T12:56:29.281926Z",
     "iopub.status.idle": "2023-06-29T12:56:29.419943Z",
     "shell.execute_reply": "2023-06-29T12:56:29.417586Z"
    },
    "papermill": {
     "duration": 0.155997,
     "end_time": "2023-06-29T12:56:29.423168",
     "exception": false,
     "start_time": "2023-06-29T12:56:29.267171",
     "status": "completed"
    },
    "tags": []
   },
   "outputs": [
    {
     "data": {
      "image/png": "[encoded data removed]",
      "text/plain": [
       "<Figure size 500x500 with 1 Axes>"
      ]
     },
     "metadata": {},
     "output_type": "display_data"
    }
   ],
   "source": [
    "plt.subplots(figsize=(5,5))\n",
    "plt.pie(train[\"Pclass\"].value_counts(),labels=[\"1st class\",\"2nd class\",\"3rd class\"],autopct=\"%1.1f%%\")\n",
    "plt.show()"
   ]
  },
  {
   "cell_type": "markdown",
   "id": "87b7efac",
   "metadata": {
    "papermill": {
     "duration": 0.024039,
     "end_time": "2023-06-29T12:56:29.466755",
     "exception": false,
     "start_time": "2023-06-29T12:56:29.442716",
     "status": "completed"
    },
    "tags": []
   },
   "source": [
    "# survived"
   ]
  },
  {
   "cell_type": "markdown",
   "id": "0277632b",
   "metadata": {
    "papermill": {
     "duration": 0.016462,
     "end_time": "2023-06-29T12:56:29.504190",
     "exception": false,
     "start_time": "2023-06-29T12:56:29.487728",
     "status": "completed"
    },
    "tags": []
   },
   "source": [
    "**WOMEN**"
   ]
  },
  {
   "cell_type": "code",
   "execution_count": 17,
   "id": "d76aa7c0",
   "metadata": {
    "execution": {
     "iopub.execute_input": "2023-06-29T12:56:29.541574Z",
     "iopub.status.busy": "2023-06-29T12:56:29.541036Z",
     "iopub.status.idle": "2023-06-29T12:56:29.551569Z",
     "shell.execute_reply": "2023-06-29T12:56:29.550249Z"
    },
    "papermill": {
     "duration": 0.034319,
     "end_time": "2023-06-29T12:56:29.553928",
     "exception": false,
     "start_time": "2023-06-29T12:56:29.519609",
     "status": "completed"
    },
    "tags": []
   },
   "outputs": [
    {
     "name": "stdout",
     "output_type": "stream",
     "text": [
      "% of women who survived: 0.9318181818181818\n"
     ]
    }
   ],
   "source": [
    "women = train.loc[train.Sex == 'female'][\"Survived\"]\n",
    "rate_women = sum(women)/len(women)\n",
    "\n",
    "print(\"% of women who survived:\", rate_women)"
   ]
  },
  {
   "cell_type": "markdown",
   "id": "b0bf4655",
   "metadata": {
    "papermill": {
     "duration": 0.014196,
     "end_time": "2023-06-29T12:56:29.582414",
     "exception": false,
     "start_time": "2023-06-29T12:56:29.568218",
     "status": "completed"
    },
    "tags": []
   },
   "source": [
    "**men**"
   ]
  },
  {
   "cell_type": "code",
   "execution_count": 18,
   "id": "544c21c2",
   "metadata": {
    "execution": {
     "iopub.execute_input": "2023-06-29T12:56:29.613651Z",
     "iopub.status.busy": "2023-06-29T12:56:29.612657Z",
     "iopub.status.idle": "2023-06-29T12:56:29.621315Z",
     "shell.execute_reply": "2023-06-29T12:56:29.620262Z"
    },
    "papermill": {
     "duration": 0.026999,
     "end_time": "2023-06-29T12:56:29.623584",
     "exception": false,
     "start_time": "2023-06-29T12:56:29.596585",
     "status": "completed"
    },
    "tags": []
   },
   "outputs": [
    {
     "name": "stdout",
     "output_type": "stream",
     "text": [
      "% of men who survived: 0.43157894736842106\n"
     ]
    }
   ],
   "source": [
    "men = train.loc[train.Sex == 'male'][\"Survived\"]\n",
    "rate_men = sum(men)/len(men)\n",
    "\n",
    "print(\"% of men who survived:\", rate_men)"
   ]
  },
  {
   "cell_type": "markdown",
   "id": "3fc1fe7c",
   "metadata": {
    "papermill": {
     "duration": 0.016012,
     "end_time": "2023-06-29T12:56:29.657167",
     "exception": false,
     "start_time": "2023-06-29T12:56:29.641155",
     "status": "completed"
    },
    "tags": []
   },
   "source": [
    "We clearly now know that most of the women were survived from the titanic."
   ]
  },
  {
   "cell_type": "code",
   "execution_count": 19,
   "id": "e783ecd0",
   "metadata": {
    "execution": {
     "iopub.execute_input": "2023-06-29T12:56:29.688528Z",
     "iopub.status.busy": "2023-06-29T12:56:29.687500Z",
     "iopub.status.idle": "2023-06-29T12:56:29.703837Z",
     "shell.execute_reply": "2023-06-29T12:56:29.702541Z"
    },
    "papermill": {
     "duration": 0.034994,
     "end_time": "2023-06-29T12:56:29.706604",
     "exception": false,
     "start_time": "2023-06-29T12:56:29.671610",
     "status": "completed"
    },
    "tags": []
   },
   "outputs": [
    {
     "data": {
      "text/html": [
       "<div>\n",
       "<style scoped>\n",
       "    .dataframe tbody tr th:only-of-type {\n",
       "        vertical-align: middle;\n",
       "    }\n",
       "\n",
       "    .dataframe tbody tr th {\n",
       "        vertical-align: top;\n",
       "    }\n",
       "\n",
       "    .dataframe thead th {\n",
       "        text-align: right;\n",
       "    }\n",
       "</style>\n",
       "<table border=\"1\" class=\"dataframe\">\n",
       "  <thead>\n",
       "    <tr style=\"text-align: right;\">\n",
       "      <th></th>\n",
       "      <th>PassengerId</th>\n",
       "      <th>Survived</th>\n",
       "      <th>Pclass</th>\n",
       "      <th>SibSp</th>\n",
       "      <th>Parch</th>\n",
       "    </tr>\n",
       "  </thead>\n",
       "  <tbody>\n",
       "    <tr>\n",
       "      <th>1</th>\n",
       "      <td>2</td>\n",
       "      <td>1</td>\n",
       "      <td>1</td>\n",
       "      <td>1</td>\n",
       "      <td>0</td>\n",
       "    </tr>\n",
       "    <tr>\n",
       "      <th>3</th>\n",
       "      <td>4</td>\n",
       "      <td>1</td>\n",
       "      <td>1</td>\n",
       "      <td>1</td>\n",
       "      <td>0</td>\n",
       "    </tr>\n",
       "    <tr>\n",
       "      <th>6</th>\n",
       "      <td>7</td>\n",
       "      <td>0</td>\n",
       "      <td>1</td>\n",
       "      <td>0</td>\n",
       "      <td>0</td>\n",
       "    </tr>\n",
       "    <tr>\n",
       "      <th>10</th>\n",
       "      <td>11</td>\n",
       "      <td>1</td>\n",
       "      <td>3</td>\n",
       "      <td>1</td>\n",
       "      <td>1</td>\n",
       "    </tr>\n",
       "    <tr>\n",
       "      <th>11</th>\n",
       "      <td>12</td>\n",
       "      <td>1</td>\n",
       "      <td>1</td>\n",
       "      <td>0</td>\n",
       "      <td>0</td>\n",
       "    </tr>\n",
       "  </tbody>\n",
       "</table>\n",
       "</div>"
      ],
      "text/plain": [
       "    PassengerId  Survived  Pclass  SibSp  Parch\n",
       "1             2         1       1      1      0\n",
       "3             4         1       1      1      0\n",
       "6             7         0       1      0      0\n",
       "10           11         1       3      1      1\n",
       "11           12         1       1      0      0"
      ]
     },
     "execution_count": 19,
     "metadata": {},
     "output_type": "execute_result"
    }
   ],
   "source": [
    "\n",
    "train_1=train.drop(['Name','Sex','Age','Cabin','Fare','Embarked','Ticket'],axis='columns')\n",
    "train_1.head()"
   ]
  },
  {
   "cell_type": "markdown",
   "id": "67d92d82",
   "metadata": {
    "papermill": {
     "duration": 0.014236,
     "end_time": "2023-06-29T12:56:29.735754",
     "exception": false,
     "start_time": "2023-06-29T12:56:29.721518",
     "status": "completed"
    },
    "tags": []
   },
   "source": [
    "# 5.Build the model"
   ]
  },
  {
   "cell_type": "code",
   "execution_count": 20,
   "id": "f613f21d",
   "metadata": {
    "execution": {
     "iopub.execute_input": "2023-06-29T12:56:29.769103Z",
     "iopub.status.busy": "2023-06-29T12:56:29.768097Z",
     "iopub.status.idle": "2023-06-29T12:56:29.775835Z",
     "shell.execute_reply": "2023-06-29T12:56:29.774623Z"
    },
    "papermill": {
     "duration": 0.027445,
     "end_time": "2023-06-29T12:56:29.778484",
     "exception": false,
     "start_time": "2023-06-29T12:56:29.751039",
     "status": "completed"
    },
    "tags": []
   },
   "outputs": [],
   "source": [
    "#select survived as target variable:\n",
    "y = train_1['Survived']\n",
    "\n",
    "#select all the other columns minus survived as the feature variables:\n",
    "X = train_1.drop('Survived',axis=1)"
   ]
  },
  {
   "cell_type": "code",
   "execution_count": 21,
   "id": "b541d875",
   "metadata": {
    "execution": {
     "iopub.execute_input": "2023-06-29T12:56:29.815412Z",
     "iopub.status.busy": "2023-06-29T12:56:29.814858Z",
     "iopub.status.idle": "2023-06-29T12:56:29.825331Z",
     "shell.execute_reply": "2023-06-29T12:56:29.824172Z"
    },
    "papermill": {
     "duration": 0.034815,
     "end_time": "2023-06-29T12:56:29.827578",
     "exception": false,
     "start_time": "2023-06-29T12:56:29.792763",
     "status": "completed"
    },
    "tags": []
   },
   "outputs": [
    {
     "name": "stdout",
     "output_type": "stream",
     "text": [
      "Dimensions: \n",
      " x_train:(146, 4) \n",
      " x_test(37, 4) \n",
      " y_train(146,) \n",
      " y_test(37,)\n"
     ]
    }
   ],
   "source": [
    "#now make the train-test splits\n",
    "x_train, x_test, y_train, y_test = train_test_split(X, y, test_size = 0.2, random_state=random_state)\n",
    "print('Dimensions: \\n x_train:{} \\n x_test{} \\n y_train{} \\n y_test{}'.format(x_train.shape, x_test.shape, y_train.shape, y_test.shape))"
   ]
  },
  {
   "cell_type": "code",
   "execution_count": 22,
   "id": "64220f05",
   "metadata": {
    "execution": {
     "iopub.execute_input": "2023-06-29T12:56:29.863546Z",
     "iopub.status.busy": "2023-06-29T12:56:29.862471Z",
     "iopub.status.idle": "2023-06-29T12:56:29.902402Z",
     "shell.execute_reply": "2023-06-29T12:56:29.901123Z"
    },
    "papermill": {
     "duration": 0.062058,
     "end_time": "2023-06-29T12:56:29.905057",
     "exception": false,
     "start_time": "2023-06-29T12:56:29.842999",
     "status": "completed"
    },
    "tags": []
   },
   "outputs": [
    {
     "data": {
      "text/html": [
       "<style>#sk-container-id-1 {color: black;background-color: white;}#sk-container-id-1 pre{padding: 0;}#sk-container-id-1 div.sk-toggleable {background-color: white;}#sk-container-id-1 label.sk-toggleable__label {cursor: pointer;display: block;width: 100%;margin-bottom: 0;padding: 0.3em;box-sizing: border-box;text-align: center;}#sk-container-id-1 label.sk-toggleable__label-arrow:before {content: \"▸\";float: left;margin-right: 0.25em;color: #696969;}#sk-container-id-1 label.sk-toggleable__label-arrow:hover:before {color: black;}#sk-container-id-1 div.sk-estimator:hover label.sk-toggleable__label-arrow:before {color: black;}#sk-container-id-1 div.sk-toggleable__content {max-height: 0;max-width: 0;overflow: hidden;text-align: left;background-color: #f0f8ff;}#sk-container-id-1 div.sk-toggleable__content pre {margin: 0.2em;color: black;border-radius: 0.25em;background-color: #f0f8ff;}#sk-container-id-1 input.sk-toggleable__control:checked~div.sk-toggleable__content {max-height: 200px;max-width: 100%;overflow: auto;}#sk-container-id-1 input.sk-toggleable__control:checked~label.sk-toggleable__label-arrow:before {content: \"▾\";}#sk-container-id-1 div.sk-estimator input.sk-toggleable__control:checked~label.sk-toggleable__label {background-color: #d4ebff;}#sk-container-id-1 div.sk-label input.sk-toggleable__control:checked~label.sk-toggleable__label {background-color: #d4ebff;}#sk-container-id-1 input.sk-hidden--visually {border: 0;clip: rect(1px 1px 1px 1px);clip: rect(1px, 1px, 1px, 1px);height: 1px;margin: -1px;overflow: hidden;padding: 0;position: absolute;width: 1px;}#sk-container-id-1 div.sk-estimator {font-family: monospace;background-color: #f0f8ff;border: 1px dotted black;border-radius: 0.25em;box-sizing: border-box;margin-bottom: 0.5em;}#sk-container-id-1 div.sk-estimator:hover {background-color: #d4ebff;}#sk-container-id-1 div.sk-parallel-item::after {content: \"\";width: 100%;border-bottom: 1px solid gray;flex-grow: 1;}#sk-container-id-1 div.sk-label:hover label.sk-toggleable__label {background-color: #d4ebff;}#sk-container-id-1 div.sk-serial::before {content: \"\";position: absolute;border-left: 1px solid gray;box-sizing: border-box;top: 0;bottom: 0;left: 50%;z-index: 0;}#sk-container-id-1 div.sk-serial {display: flex;flex-direction: column;align-items: center;background-color: white;padding-right: 0.2em;padding-left: 0.2em;position: relative;}#sk-container-id-1 div.sk-item {position: relative;z-index: 1;}#sk-container-id-1 div.sk-parallel {display: flex;align-items: stretch;justify-content: center;background-color: white;position: relative;}#sk-container-id-1 div.sk-item::before, #sk-container-id-1 div.sk-parallel-item::before {content: \"\";position: absolute;border-left: 1px solid gray;box-sizing: border-box;top: 0;bottom: 0;left: 50%;z-index: -1;}#sk-container-id-1 div.sk-parallel-item {display: flex;flex-direction: column;z-index: 1;position: relative;background-color: white;}#sk-container-id-1 div.sk-parallel-item:first-child::after {align-self: flex-end;width: 50%;}#sk-container-id-1 div.sk-parallel-item:last-child::after {align-self: flex-start;width: 50%;}#sk-container-id-1 div.sk-parallel-item:only-child::after {width: 0;}#sk-container-id-1 div.sk-dashed-wrapped {border: 1px dashed gray;margin: 0 0.4em 0.5em 0.4em;box-sizing: border-box;padding-bottom: 0.4em;background-color: white;}#sk-container-id-1 div.sk-label label {font-family: monospace;font-weight: bold;display: inline-block;line-height: 1.2em;}#sk-container-id-1 div.sk-label-container {text-align: center;}#sk-container-id-1 div.sk-container {/* jupyter's `normalize.less` sets `[hidden] { display: none; }` but bootstrap.min.css set `[hidden] { display: none !important; }` so we also need the `!important` here to be able to override the default hidden behavior on the sphinx rendered scikit-learn.org. See: https://github.com/scikit-learn/scikit-learn/issues/21755 */display: inline-block !important;position: relative;}#sk-container-id-1 div.sk-text-repr-fallback {display: none;}</style><div id=\"sk-container-id-1\" class=\"sk-top-container\"><div class=\"sk-text-repr-fallback\"><pre>LogisticRegression()</pre><b>In a Jupyter environment, please rerun this cell to show the HTML representation or trust the notebook. <br />On GitHub, the HTML representation is unable to render, please try loading this page with nbviewer.org.</b></div><div class=\"sk-container\" hidden><div class=\"sk-item\"><div class=\"sk-estimator sk-toggleable\"><input class=\"sk-toggleable__control sk-hidden--visually\" id=\"sk-estimator-id-1\" type=\"checkbox\" checked><label for=\"sk-estimator-id-1\" class=\"sk-toggleable__label sk-toggleable__label-arrow\">LogisticRegression</label><div class=\"sk-toggleable__content\"><pre>LogisticRegression()</pre></div></div></div></div></div>"
      ],
      "text/plain": [
       "LogisticRegression()"
      ]
     },
     "execution_count": 22,
     "metadata": {},
     "output_type": "execute_result"
    }
   ],
   "source": [
    "model=LogisticRegression()\n",
    "model.fit(x_train,y_train)"
   ]
  },
  {
   "cell_type": "code",
   "execution_count": 23,
   "id": "d5e688bd",
   "metadata": {
    "execution": {
     "iopub.execute_input": "2023-06-29T12:56:29.939935Z",
     "iopub.status.busy": "2023-06-29T12:56:29.938463Z",
     "iopub.status.idle": "2023-06-29T12:56:29.948422Z",
     "shell.execute_reply": "2023-06-29T12:56:29.947141Z"
    },
    "papermill": {
     "duration": 0.030612,
     "end_time": "2023-06-29T12:56:29.951069",
     "exception": false,
     "start_time": "2023-06-29T12:56:29.920457",
     "status": "completed"
    },
    "tags": []
   },
   "outputs": [
    {
     "data": {
      "text/html": [
       "<style>#sk-container-id-2 {color: black;background-color: white;}#sk-container-id-2 pre{padding: 0;}#sk-container-id-2 div.sk-toggleable {background-color: white;}#sk-container-id-2 label.sk-toggleable__label {cursor: pointer;display: block;width: 100%;margin-bottom: 0;padding: 0.3em;box-sizing: border-box;text-align: center;}#sk-container-id-2 label.sk-toggleable__label-arrow:before {content: \"▸\";float: left;margin-right: 0.25em;color: #696969;}#sk-container-id-2 label.sk-toggleable__label-arrow:hover:before {color: black;}#sk-container-id-2 div.sk-estimator:hover label.sk-toggleable__label-arrow:before {color: black;}#sk-container-id-2 div.sk-toggleable__content {max-height: 0;max-width: 0;overflow: hidden;text-align: left;background-color: #f0f8ff;}#sk-container-id-2 div.sk-toggleable__content pre {margin: 0.2em;color: black;border-radius: 0.25em;background-color: #f0f8ff;}#sk-container-id-2 input.sk-toggleable__control:checked~div.sk-toggleable__content {max-height: 200px;max-width: 100%;overflow: auto;}#sk-container-id-2 input.sk-toggleable__control:checked~label.sk-toggleable__label-arrow:before {content: \"▾\";}#sk-container-id-2 div.sk-estimator input.sk-toggleable__control:checked~label.sk-toggleable__label {background-color: #d4ebff;}#sk-container-id-2 div.sk-label input.sk-toggleable__control:checked~label.sk-toggleable__label {background-color: #d4ebff;}#sk-container-id-2 input.sk-hidden--visually {border: 0;clip: rect(1px 1px 1px 1px);clip: rect(1px, 1px, 1px, 1px);height: 1px;margin: -1px;overflow: hidden;padding: 0;position: absolute;width: 1px;}#sk-container-id-2 div.sk-estimator {font-family: monospace;background-color: #f0f8ff;border: 1px dotted black;border-radius: 0.25em;box-sizing: border-box;margin-bottom: 0.5em;}#sk-container-id-2 div.sk-estimator:hover {background-color: #d4ebff;}#sk-container-id-2 div.sk-parallel-item::after {content: \"\";width: 100%;border-bottom: 1px solid gray;flex-grow: 1;}#sk-container-id-2 div.sk-label:hover label.sk-toggleable__label {background-color: #d4ebff;}#sk-container-id-2 div.sk-serial::before {content: \"\";position: absolute;border-left: 1px solid gray;box-sizing: border-box;top: 0;bottom: 0;left: 50%;z-index: 0;}#sk-container-id-2 div.sk-serial {display: flex;flex-direction: column;align-items: center;background-color: white;padding-right: 0.2em;padding-left: 0.2em;position: relative;}#sk-container-id-2 div.sk-item {position: relative;z-index: 1;}#sk-container-id-2 div.sk-parallel {display: flex;align-items: stretch;justify-content: center;background-color: white;position: relative;}#sk-container-id-2 div.sk-item::before, #sk-container-id-2 div.sk-parallel-item::before {content: \"\";position: absolute;border-left: 1px solid gray;box-sizing: border-box;top: 0;bottom: 0;left: 50%;z-index: -1;}#sk-container-id-2 div.sk-parallel-item {display: flex;flex-direction: column;z-index: 1;position: relative;background-color: white;}#sk-container-id-2 div.sk-parallel-item:first-child::after {align-self: flex-end;width: 50%;}#sk-container-id-2 div.sk-parallel-item:last-child::after {align-self: flex-start;width: 50%;}#sk-container-id-2 div.sk-parallel-item:only-child::after {width: 0;}#sk-container-id-2 div.sk-dashed-wrapped {border: 1px dashed gray;margin: 0 0.4em 0.5em 0.4em;box-sizing: border-box;padding-bottom: 0.4em;background-color: white;}#sk-container-id-2 div.sk-label label {font-family: monospace;font-weight: bold;display: inline-block;line-height: 1.2em;}#sk-container-id-2 div.sk-label-container {text-align: center;}#sk-container-id-2 div.sk-container {/* jupyter's `normalize.less` sets `[hidden] { display: none; }` but bootstrap.min.css set `[hidden] { display: none !important; }` so we also need the `!important` here to be able to override the default hidden behavior on the sphinx rendered scikit-learn.org. See: https://github.com/scikit-learn/scikit-learn/issues/21755 */display: inline-block !important;position: relative;}#sk-container-id-2 div.sk-text-repr-fallback {display: none;}</style><div id=\"sk-container-id-2\" class=\"sk-top-container\"><div class=\"sk-text-repr-fallback\"><pre>LogisticRegression()</pre><b>In a Jupyter environment, please rerun this cell to show the HTML representation or trust the notebook. <br />On GitHub, the HTML representation is unable to render, please try loading this page with nbviewer.org.</b></div><div class=\"sk-container\" hidden><div class=\"sk-item\"><div class=\"sk-estimator sk-toggleable\"><input class=\"sk-toggleable__control sk-hidden--visually\" id=\"sk-estimator-id-2\" type=\"checkbox\" checked><label for=\"sk-estimator-id-2\" class=\"sk-toggleable__label sk-toggleable__label-arrow\">LogisticRegression</label><div class=\"sk-toggleable__content\"><pre>LogisticRegression()</pre></div></div></div></div></div>"
      ],
      "text/plain": [
       "LogisticRegression()"
      ]
     },
     "execution_count": 23,
     "metadata": {},
     "output_type": "execute_result"
    }
   ],
   "source": [
    "LogisticRegression()"
   ]
  },
  {
   "cell_type": "markdown",
   "id": "7d605203",
   "metadata": {
    "papermill": {
     "duration": 0.01448,
     "end_time": "2023-06-29T12:56:29.981121",
     "exception": false,
     "start_time": "2023-06-29T12:56:29.966641",
     "status": "completed"
    },
    "tags": []
   },
   "source": [
    "# 6.Evaluate the model"
   ]
  },
  {
   "cell_type": "code",
   "execution_count": 24,
   "id": "9757bdc3",
   "metadata": {
    "execution": {
     "iopub.execute_input": "2023-06-29T12:56:30.015394Z",
     "iopub.status.busy": "2023-06-29T12:56:30.014544Z",
     "iopub.status.idle": "2023-06-29T12:56:30.023790Z",
     "shell.execute_reply": "2023-06-29T12:56:30.022725Z"
    },
    "papermill": {
     "duration": 0.029898,
     "end_time": "2023-06-29T12:56:30.026089",
     "exception": false,
     "start_time": "2023-06-29T12:56:29.996191",
     "status": "completed"
    },
    "tags": []
   },
   "outputs": [
    {
     "data": {
      "text/plain": [
       "array([1, 1, 1, 0, 1])"
      ]
     },
     "execution_count": 24,
     "metadata": {},
     "output_type": "execute_result"
    }
   ],
   "source": [
    "pred=model.predict(x_test)\n",
    "pred[:5]"
   ]
  },
  {
   "cell_type": "code",
   "execution_count": 25,
   "id": "66d34518",
   "metadata": {
    "execution": {
     "iopub.execute_input": "2023-06-29T12:56:30.058545Z",
     "iopub.status.busy": "2023-06-29T12:56:30.057700Z",
     "iopub.status.idle": "2023-06-29T12:56:30.065728Z",
     "shell.execute_reply": "2023-06-29T12:56:30.064671Z"
    },
    "papermill": {
     "duration": 0.026623,
     "end_time": "2023-06-29T12:56:30.067897",
     "exception": false,
     "start_time": "2023-06-29T12:56:30.041274",
     "status": "completed"
    },
    "tags": []
   },
   "outputs": [
    {
     "data": {
      "text/plain": [
       "139    0\n",
       "558    1\n",
       "449    1\n",
       "136    1\n",
       "779    1\n",
       "Name: Survived, dtype: int64"
      ]
     },
     "execution_count": 25,
     "metadata": {},
     "output_type": "execute_result"
    }
   ],
   "source": [
    "y_test[:5]"
   ]
  },
  {
   "cell_type": "code",
   "execution_count": 26,
   "id": "4420c7e0",
   "metadata": {
    "execution": {
     "iopub.execute_input": "2023-06-29T12:56:30.100637Z",
     "iopub.status.busy": "2023-06-29T12:56:30.099801Z",
     "iopub.status.idle": "2023-06-29T12:56:30.108551Z",
     "shell.execute_reply": "2023-06-29T12:56:30.107439Z"
    },
    "papermill": {
     "duration": 0.027632,
     "end_time": "2023-06-29T12:56:30.110819",
     "exception": false,
     "start_time": "2023-06-29T12:56:30.083187",
     "status": "completed"
    },
    "tags": []
   },
   "outputs": [
    {
     "data": {
      "text/plain": [
       "array([[ 0,  2],\n",
       "       [11, 24]])"
      ]
     },
     "execution_count": 26,
     "metadata": {},
     "output_type": "execute_result"
    }
   ],
   "source": [
    "confusion_matrix(pred,y_test)"
   ]
  },
  {
   "cell_type": "code",
   "execution_count": 27,
   "id": "29baa266",
   "metadata": {
    "execution": {
     "iopub.execute_input": "2023-06-29T12:56:30.143526Z",
     "iopub.status.busy": "2023-06-29T12:56:30.142674Z",
     "iopub.status.idle": "2023-06-29T12:56:30.150818Z",
     "shell.execute_reply": "2023-06-29T12:56:30.149943Z"
    },
    "papermill": {
     "duration": 0.027392,
     "end_time": "2023-06-29T12:56:30.153046",
     "exception": false,
     "start_time": "2023-06-29T12:56:30.125654",
     "status": "completed"
    },
    "tags": []
   },
   "outputs": [
    {
     "data": {
      "text/plain": [
       "0.6486486486486487"
      ]
     },
     "execution_count": 27,
     "metadata": {},
     "output_type": "execute_result"
    }
   ],
   "source": [
    "accuracy_score(pred,y_test)"
   ]
  },
  {
   "cell_type": "code",
   "execution_count": 28,
   "id": "f7c7bc7b",
   "metadata": {
    "execution": {
     "iopub.execute_input": "2023-06-29T12:56:30.186600Z",
     "iopub.status.busy": "2023-06-29T12:56:30.185770Z",
     "iopub.status.idle": "2023-06-29T12:56:30.195783Z",
     "shell.execute_reply": "2023-06-29T12:56:30.194767Z"
    },
    "papermill": {
     "duration": 0.0301,
     "end_time": "2023-06-29T12:56:30.198437",
     "exception": false,
     "start_time": "2023-06-29T12:56:30.168337",
     "status": "completed"
    },
    "tags": []
   },
   "outputs": [
    {
     "data": {
      "text/plain": [
       "0.9230769230769231"
      ]
     },
     "execution_count": 28,
     "metadata": {},
     "output_type": "execute_result"
    }
   ],
   "source": [
    "precision_score(pred,y_test)"
   ]
  },
  {
   "cell_type": "markdown",
   "id": "d1c8ee05",
   "metadata": {
    "papermill": {
     "duration": 0.01525,
     "end_time": "2023-06-29T12:56:30.229170",
     "exception": false,
     "start_time": "2023-06-29T12:56:30.213920",
     "status": "completed"
    },
    "tags": []
   },
   "source": [
    "# 7.predict on test data"
   ]
  },
  {
   "cell_type": "code",
   "execution_count": 29,
   "id": "39043598",
   "metadata": {
    "execution": {
     "iopub.execute_input": "2023-06-29T12:56:30.262248Z",
     "iopub.status.busy": "2023-06-29T12:56:30.261416Z",
     "iopub.status.idle": "2023-06-29T12:56:30.268218Z",
     "shell.execute_reply": "2023-06-29T12:56:30.267368Z"
    },
    "papermill": {
     "duration": 0.02588,
     "end_time": "2023-06-29T12:56:30.270427",
     "exception": false,
     "start_time": "2023-06-29T12:56:30.244547",
     "status": "completed"
    },
    "tags": []
   },
   "outputs": [
    {
     "data": {
      "text/plain": [
       "(418, 11)"
      ]
     },
     "execution_count": 29,
     "metadata": {},
     "output_type": "execute_result"
    }
   ],
   "source": [
    "test_df.shape"
   ]
  },
  {
   "cell_type": "code",
   "execution_count": 30,
   "id": "753aa3bf",
   "metadata": {
    "execution": {
     "iopub.execute_input": "2023-06-29T12:56:30.303433Z",
     "iopub.status.busy": "2023-06-29T12:56:30.302987Z",
     "iopub.status.idle": "2023-06-29T12:56:30.320230Z",
     "shell.execute_reply": "2023-06-29T12:56:30.319173Z"
    },
    "papermill": {
     "duration": 0.036748,
     "end_time": "2023-06-29T12:56:30.322586",
     "exception": false,
     "start_time": "2023-06-29T12:56:30.285838",
     "status": "completed"
    },
    "tags": []
   },
   "outputs": [
    {
     "data": {
      "text/html": [
       "<div>\n",
       "<style scoped>\n",
       "    .dataframe tbody tr th:only-of-type {\n",
       "        vertical-align: middle;\n",
       "    }\n",
       "\n",
       "    .dataframe tbody tr th {\n",
       "        vertical-align: top;\n",
       "    }\n",
       "\n",
       "    .dataframe thead th {\n",
       "        text-align: right;\n",
       "    }\n",
       "</style>\n",
       "<table border=\"1\" class=\"dataframe\">\n",
       "  <thead>\n",
       "    <tr style=\"text-align: right;\">\n",
       "      <th></th>\n",
       "      <th>PassengerId</th>\n",
       "      <th>Pclass</th>\n",
       "      <th>Name</th>\n",
       "      <th>Sex</th>\n",
       "      <th>Age</th>\n",
       "      <th>SibSp</th>\n",
       "      <th>Parch</th>\n",
       "      <th>Ticket</th>\n",
       "      <th>Fare</th>\n",
       "      <th>Cabin</th>\n",
       "      <th>Embarked</th>\n",
       "    </tr>\n",
       "  </thead>\n",
       "  <tbody>\n",
       "    <tr>\n",
       "      <th>0</th>\n",
       "      <td>892</td>\n",
       "      <td>3</td>\n",
       "      <td>Kelly, Mr. James</td>\n",
       "      <td>male</td>\n",
       "      <td>34.5</td>\n",
       "      <td>0</td>\n",
       "      <td>0</td>\n",
       "      <td>330911</td>\n",
       "      <td>7.8292</td>\n",
       "      <td>NaN</td>\n",
       "      <td>Q</td>\n",
       "    </tr>\n",
       "    <tr>\n",
       "      <th>1</th>\n",
       "      <td>893</td>\n",
       "      <td>3</td>\n",
       "      <td>Wilkes, Mrs. James (Ellen Needs)</td>\n",
       "      <td>female</td>\n",
       "      <td>47.0</td>\n",
       "      <td>1</td>\n",
       "      <td>0</td>\n",
       "      <td>363272</td>\n",
       "      <td>7.0000</td>\n",
       "      <td>NaN</td>\n",
       "      <td>S</td>\n",
       "    </tr>\n",
       "    <tr>\n",
       "      <th>2</th>\n",
       "      <td>894</td>\n",
       "      <td>2</td>\n",
       "      <td>Myles, Mr. Thomas Francis</td>\n",
       "      <td>male</td>\n",
       "      <td>62.0</td>\n",
       "      <td>0</td>\n",
       "      <td>0</td>\n",
       "      <td>240276</td>\n",
       "      <td>9.6875</td>\n",
       "      <td>NaN</td>\n",
       "      <td>Q</td>\n",
       "    </tr>\n",
       "    <tr>\n",
       "      <th>3</th>\n",
       "      <td>895</td>\n",
       "      <td>3</td>\n",
       "      <td>Wirz, Mr. Albert</td>\n",
       "      <td>male</td>\n",
       "      <td>27.0</td>\n",
       "      <td>0</td>\n",
       "      <td>0</td>\n",
       "      <td>315154</td>\n",
       "      <td>8.6625</td>\n",
       "      <td>NaN</td>\n",
       "      <td>S</td>\n",
       "    </tr>\n",
       "    <tr>\n",
       "      <th>4</th>\n",
       "      <td>896</td>\n",
       "      <td>3</td>\n",
       "      <td>Hirvonen, Mrs. Alexander (Helga E Lindqvist)</td>\n",
       "      <td>female</td>\n",
       "      <td>22.0</td>\n",
       "      <td>1</td>\n",
       "      <td>1</td>\n",
       "      <td>3101298</td>\n",
       "      <td>12.2875</td>\n",
       "      <td>NaN</td>\n",
       "      <td>S</td>\n",
       "    </tr>\n",
       "  </tbody>\n",
       "</table>\n",
       "</div>"
      ],
      "text/plain": [
       "   PassengerId  Pclass                                          Name     Sex  \\\n",
       "0          892       3                              Kelly, Mr. James    male   \n",
       "1          893       3              Wilkes, Mrs. James (Ellen Needs)  female   \n",
       "2          894       2                     Myles, Mr. Thomas Francis    male   \n",
       "3          895       3                              Wirz, Mr. Albert    male   \n",
       "4          896       3  Hirvonen, Mrs. Alexander (Helga E Lindqvist)  female   \n",
       "\n",
       "    Age  SibSp  Parch   Ticket     Fare Cabin Embarked  \n",
       "0  34.5      0      0   330911   7.8292   NaN        Q  \n",
       "1  47.0      1      0   363272   7.0000   NaN        S  \n",
       "2  62.0      0      0   240276   9.6875   NaN        Q  \n",
       "3  27.0      0      0   315154   8.6625   NaN        S  \n",
       "4  22.0      1      1  3101298  12.2875   NaN        S  "
      ]
     },
     "execution_count": 30,
     "metadata": {},
     "output_type": "execute_result"
    }
   ],
   "source": [
    "test_df.head()"
   ]
  },
  {
   "cell_type": "markdown",
   "id": "e320295f",
   "metadata": {
    "papermill": {
     "duration": 0.016123,
     "end_time": "2023-06-29T12:56:30.354155",
     "exception": false,
     "start_time": "2023-06-29T12:56:30.338032",
     "status": "completed"
    },
    "tags": []
   },
   "source": [
    "# 7.Submission"
   ]
  },
  {
   "cell_type": "code",
   "execution_count": 31,
   "id": "c863b150",
   "metadata": {
    "execution": {
     "iopub.execute_input": "2023-06-29T12:56:30.391229Z",
     "iopub.status.busy": "2023-06-29T12:56:30.390798Z",
     "iopub.status.idle": "2023-06-29T12:56:30.411288Z",
     "shell.execute_reply": "2023-06-29T12:56:30.410177Z"
    },
    "papermill": {
     "duration": 0.041099,
     "end_time": "2023-06-29T12:56:30.413617",
     "exception": false,
     "start_time": "2023-06-29T12:56:30.372518",
     "status": "completed"
    },
    "tags": []
   },
   "outputs": [
    {
     "data": {
      "text/plain": [
       "PassengerId    0\n",
       "Pclass         0\n",
       "SibSp          0\n",
       "Parch          0\n",
       "dtype: int64"
      ]
     },
     "execution_count": 31,
     "metadata": {},
     "output_type": "execute_result"
    }
   ],
   "source": [
    "\n",
    "test_values=test_df.drop(['Name','Sex','Age','Cabin','Embarked','Fare','Ticket'],axis='columns')\n",
    "extracted_col = train[\"Survived\"]\n",
    "test_data= test_values.join(extracted_col)\n",
    "test_values.isnull().sum()"
   ]
  },
  {
   "cell_type": "code",
   "execution_count": 32,
   "id": "9872dd54",
   "metadata": {
    "execution": {
     "iopub.execute_input": "2023-06-29T12:56:30.450460Z",
     "iopub.status.busy": "2023-06-29T12:56:30.449683Z",
     "iopub.status.idle": "2023-06-29T12:56:30.461696Z",
     "shell.execute_reply": "2023-06-29T12:56:30.460615Z"
    },
    "papermill": {
     "duration": 0.034478,
     "end_time": "2023-06-29T12:56:30.464039",
     "exception": false,
     "start_time": "2023-06-29T12:56:30.429561",
     "status": "completed"
    },
    "tags": []
   },
   "outputs": [
    {
     "data": {
      "text/html": [
       "<div>\n",
       "<style scoped>\n",
       "    .dataframe tbody tr th:only-of-type {\n",
       "        vertical-align: middle;\n",
       "    }\n",
       "\n",
       "    .dataframe tbody tr th {\n",
       "        vertical-align: top;\n",
       "    }\n",
       "\n",
       "    .dataframe thead th {\n",
       "        text-align: right;\n",
       "    }\n",
       "</style>\n",
       "<table border=\"1\" class=\"dataframe\">\n",
       "  <thead>\n",
       "    <tr style=\"text-align: right;\">\n",
       "      <th></th>\n",
       "      <th>PassengerId</th>\n",
       "      <th>Pclass</th>\n",
       "      <th>SibSp</th>\n",
       "      <th>Parch</th>\n",
       "      <th>Survived</th>\n",
       "    </tr>\n",
       "  </thead>\n",
       "  <tbody>\n",
       "    <tr>\n",
       "      <th>0</th>\n",
       "      <td>892</td>\n",
       "      <td>3</td>\n",
       "      <td>0</td>\n",
       "      <td>0</td>\n",
       "      <td>0.0</td>\n",
       "    </tr>\n",
       "    <tr>\n",
       "      <th>1</th>\n",
       "      <td>893</td>\n",
       "      <td>3</td>\n",
       "      <td>1</td>\n",
       "      <td>0</td>\n",
       "      <td>1.0</td>\n",
       "    </tr>\n",
       "    <tr>\n",
       "      <th>2</th>\n",
       "      <td>894</td>\n",
       "      <td>2</td>\n",
       "      <td>0</td>\n",
       "      <td>0</td>\n",
       "      <td>0.0</td>\n",
       "    </tr>\n",
       "    <tr>\n",
       "      <th>3</th>\n",
       "      <td>895</td>\n",
       "      <td>3</td>\n",
       "      <td>0</td>\n",
       "      <td>0</td>\n",
       "      <td>1.0</td>\n",
       "    </tr>\n",
       "    <tr>\n",
       "      <th>4</th>\n",
       "      <td>896</td>\n",
       "      <td>3</td>\n",
       "      <td>1</td>\n",
       "      <td>1</td>\n",
       "      <td>0.0</td>\n",
       "    </tr>\n",
       "  </tbody>\n",
       "</table>\n",
       "</div>"
      ],
      "text/plain": [
       "   PassengerId  Pclass  SibSp  Parch  Survived\n",
       "0          892       3      0      0       0.0\n",
       "1          893       3      1      0       1.0\n",
       "2          894       2      0      0       0.0\n",
       "3          895       3      0      0       1.0\n",
       "4          896       3      1      1       0.0"
      ]
     },
     "execution_count": 32,
     "metadata": {},
     "output_type": "execute_result"
    }
   ],
   "source": [
    "test_data_1= test_data.fillna(0)\n",
    "test_data_1.head()"
   ]
  },
  {
   "cell_type": "code",
   "execution_count": 33,
   "id": "e5e38dac",
   "metadata": {
    "execution": {
     "iopub.execute_input": "2023-06-29T12:56:30.498229Z",
     "iopub.status.busy": "2023-06-29T12:56:30.497506Z",
     "iopub.status.idle": "2023-06-29T12:56:30.506564Z",
     "shell.execute_reply": "2023-06-29T12:56:30.505395Z"
    },
    "papermill": {
     "duration": 0.028773,
     "end_time": "2023-06-29T12:56:30.508856",
     "exception": false,
     "start_time": "2023-06-29T12:56:30.480083",
     "status": "completed"
    },
    "tags": []
   },
   "outputs": [
    {
     "data": {
      "text/plain": [
       "array([1, 1, 1, 1, 1, 1, 1, 1, 1, 1, 1, 1, 1, 1, 1, 1, 1, 1, 1, 1, 1, 1,\n",
       "       1, 1, 1, 1, 1, 1, 1, 1, 1, 1, 1, 1, 1, 1, 1, 1, 1, 1, 1, 1, 1, 1,\n",
       "       1, 1, 1, 1, 1, 1, 1, 1, 1, 1, 1, 1, 1, 1, 1, 1, 1, 1, 1, 1, 1, 1,\n",
       "       1, 1, 1, 1, 1, 1, 1, 1, 1, 1, 1, 1, 1, 1, 1, 1, 1, 1, 1, 1, 1, 1,\n",
       "       1, 1, 1, 1, 1, 1, 1, 1, 1, 1, 1, 1, 1, 1, 1, 1, 1, 1, 1, 1, 1, 1,\n",
       "       1, 1, 1, 1, 1, 1, 1, 1, 1, 1, 1, 1, 1, 1, 1, 1, 1, 1, 1, 1, 1, 1,\n",
       "       1, 1, 1, 1, 1, 1, 1, 1, 1, 1, 1, 1, 1, 1, 1, 1, 1, 1, 1, 1, 1, 1,\n",
       "       1, 1, 1, 1, 1, 1, 1, 1, 1, 1, 1, 1, 1, 1, 1, 1, 1, 1, 1, 1, 1, 1,\n",
       "       1, 1, 1, 1, 1, 1, 1, 1, 1, 1, 1, 1, 1, 1, 1, 1, 1, 1, 1, 1, 1, 1,\n",
       "       1, 1, 1, 1, 1, 1, 1, 1, 1, 1, 1, 1, 1, 1, 1, 1, 1, 1, 1, 1, 1, 1,\n",
       "       1, 1, 1, 1, 1, 1, 1, 1, 1, 1, 1, 1, 1, 1, 1, 1, 1, 1, 1, 1, 1, 1,\n",
       "       1, 1, 1, 1, 1, 1, 1, 1, 1, 1, 1, 1, 1, 1, 1, 1, 1, 1, 1, 1, 1, 1,\n",
       "       1, 1, 1, 1, 1, 1, 1, 1, 1, 1, 1, 1, 1, 1, 1, 1, 1, 1, 1, 1, 1, 1,\n",
       "       1, 1, 1, 1, 1, 1, 1, 1, 1, 1, 1, 1, 1, 1, 1, 1, 1, 1, 1, 1, 1, 1,\n",
       "       1, 1, 1, 1, 1, 1, 1, 1, 1, 1, 1, 1, 1, 1, 1, 1, 1, 1, 1, 1, 1, 1,\n",
       "       1, 1, 1, 1, 1, 1, 1, 1, 1, 1, 1, 1, 1, 1, 1, 1, 1, 1, 1, 1, 1, 1,\n",
       "       1, 1, 1, 1, 1, 1, 1, 1, 1, 1, 1, 1, 1, 1, 1, 1, 1, 1, 1, 1, 1, 1,\n",
       "       1, 1, 1, 1, 1, 1, 1, 1, 1, 1, 1, 1, 1, 1, 1, 1, 1, 1, 1, 1, 1, 1,\n",
       "       1, 1, 1, 1, 1, 1, 1, 1, 1, 1, 1, 1, 1, 1, 1, 1, 1, 1, 1, 1, 1, 1])"
      ]
     },
     "execution_count": 33,
     "metadata": {},
     "output_type": "execute_result"
    }
   ],
   "source": [
    "predictions=model.predict(test_values)\n",
    "predictions"
   ]
  },
  {
   "cell_type": "code",
   "execution_count": 34,
   "id": "a4acf9a9",
   "metadata": {
    "execution": {
     "iopub.execute_input": "2023-06-29T12:56:30.544090Z",
     "iopub.status.busy": "2023-06-29T12:56:30.543356Z",
     "iopub.status.idle": "2023-06-29T12:56:30.558610Z",
     "shell.execute_reply": "2023-06-29T12:56:30.557791Z"
    },
    "papermill": {
     "duration": 0.035569,
     "end_time": "2023-06-29T12:56:30.560786",
     "exception": false,
     "start_time": "2023-06-29T12:56:30.525217",
     "status": "completed"
    },
    "tags": []
   },
   "outputs": [
    {
     "data": {
      "text/html": [
       "<div>\n",
       "<style scoped>\n",
       "    .dataframe tbody tr th:only-of-type {\n",
       "        vertical-align: middle;\n",
       "    }\n",
       "\n",
       "    .dataframe tbody tr th {\n",
       "        vertical-align: top;\n",
       "    }\n",
       "\n",
       "    .dataframe thead th {\n",
       "        text-align: right;\n",
       "    }\n",
       "</style>\n",
       "<table border=\"1\" class=\"dataframe\">\n",
       "  <thead>\n",
       "    <tr style=\"text-align: right;\">\n",
       "      <th></th>\n",
       "      <th>PassengerId</th>\n",
       "      <th>Survived</th>\n",
       "    </tr>\n",
       "  </thead>\n",
       "  <tbody>\n",
       "    <tr>\n",
       "      <th>0</th>\n",
       "      <td>892</td>\n",
       "      <td>0</td>\n",
       "    </tr>\n",
       "    <tr>\n",
       "      <th>1</th>\n",
       "      <td>893</td>\n",
       "      <td>1</td>\n",
       "    </tr>\n",
       "    <tr>\n",
       "      <th>2</th>\n",
       "      <td>894</td>\n",
       "      <td>0</td>\n",
       "    </tr>\n",
       "    <tr>\n",
       "      <th>3</th>\n",
       "      <td>895</td>\n",
       "      <td>0</td>\n",
       "    </tr>\n",
       "    <tr>\n",
       "      <th>4</th>\n",
       "      <td>896</td>\n",
       "      <td>1</td>\n",
       "    </tr>\n",
       "  </tbody>\n",
       "</table>\n",
       "</div>"
      ],
      "text/plain": [
       "   PassengerId  Survived\n",
       "0          892         0\n",
       "1          893         1\n",
       "2          894         0\n",
       "3          895         0\n",
       "4          896         1"
      ]
     },
     "execution_count": 34,
     "metadata": {},
     "output_type": "execute_result"
    }
   ],
   "source": [
    "submission=pd.read_csv('/kaggle/input/titanic/gender_submission.csv')\n",
    "submission.head()"
   ]
  },
  {
   "cell_type": "code",
   "execution_count": 35,
   "id": "53d9f1c0",
   "metadata": {
    "execution": {
     "iopub.execute_input": "2023-06-29T12:56:30.595735Z",
     "iopub.status.busy": "2023-06-29T12:56:30.595295Z",
     "iopub.status.idle": "2023-06-29T12:56:30.601930Z",
     "shell.execute_reply": "2023-06-29T12:56:30.600580Z"
    },
    "papermill": {
     "duration": 0.02702,
     "end_time": "2023-06-29T12:56:30.604233",
     "exception": false,
     "start_time": "2023-06-29T12:56:30.577213",
     "status": "completed"
    },
    "tags": []
   },
   "outputs": [],
   "source": [
    "submission['PassengerId']=test_df['PassengerId']\n",
    "submission['Survived']=predictions"
   ]
  },
  {
   "cell_type": "code",
   "execution_count": 36,
   "id": "7efada68",
   "metadata": {
    "execution": {
     "iopub.execute_input": "2023-06-29T12:56:30.639296Z",
     "iopub.status.busy": "2023-06-29T12:56:30.638879Z",
     "iopub.status.idle": "2023-06-29T12:56:30.646583Z",
     "shell.execute_reply": "2023-06-29T12:56:30.645408Z"
    },
    "papermill": {
     "duration": 0.02864,
     "end_time": "2023-06-29T12:56:30.649046",
     "exception": false,
     "start_time": "2023-06-29T12:56:30.620406",
     "status": "completed"
    },
    "tags": []
   },
   "outputs": [
    {
     "data": {
      "text/plain": [
       "(418, 2)"
      ]
     },
     "execution_count": 36,
     "metadata": {},
     "output_type": "execute_result"
    }
   ],
   "source": [
    "submission.shape"
   ]
  },
  {
   "cell_type": "code",
   "execution_count": 37,
   "id": "0afc5b08",
   "metadata": {
    "execution": {
     "iopub.execute_input": "2023-06-29T12:56:30.684937Z",
     "iopub.status.busy": "2023-06-29T12:56:30.684505Z",
     "iopub.status.idle": "2023-06-29T12:56:30.694787Z",
     "shell.execute_reply": "2023-06-29T12:56:30.693693Z"
    },
    "papermill": {
     "duration": 0.030468,
     "end_time": "2023-06-29T12:56:30.696961",
     "exception": false,
     "start_time": "2023-06-29T12:56:30.666493",
     "status": "completed"
    },
    "tags": []
   },
   "outputs": [
    {
     "data": {
      "text/html": [
       "<div>\n",
       "<style scoped>\n",
       "    .dataframe tbody tr th:only-of-type {\n",
       "        vertical-align: middle;\n",
       "    }\n",
       "\n",
       "    .dataframe tbody tr th {\n",
       "        vertical-align: top;\n",
       "    }\n",
       "\n",
       "    .dataframe thead th {\n",
       "        text-align: right;\n",
       "    }\n",
       "</style>\n",
       "<table border=\"1\" class=\"dataframe\">\n",
       "  <thead>\n",
       "    <tr style=\"text-align: right;\">\n",
       "      <th></th>\n",
       "      <th>PassengerId</th>\n",
       "      <th>Survived</th>\n",
       "    </tr>\n",
       "  </thead>\n",
       "  <tbody>\n",
       "    <tr>\n",
       "      <th>0</th>\n",
       "      <td>892</td>\n",
       "      <td>1</td>\n",
       "    </tr>\n",
       "    <tr>\n",
       "      <th>1</th>\n",
       "      <td>893</td>\n",
       "      <td>1</td>\n",
       "    </tr>\n",
       "    <tr>\n",
       "      <th>2</th>\n",
       "      <td>894</td>\n",
       "      <td>1</td>\n",
       "    </tr>\n",
       "    <tr>\n",
       "      <th>3</th>\n",
       "      <td>895</td>\n",
       "      <td>1</td>\n",
       "    </tr>\n",
       "    <tr>\n",
       "      <th>4</th>\n",
       "      <td>896</td>\n",
       "      <td>1</td>\n",
       "    </tr>\n",
       "  </tbody>\n",
       "</table>\n",
       "</div>"
      ],
      "text/plain": [
       "   PassengerId  Survived\n",
       "0          892         1\n",
       "1          893         1\n",
       "2          894         1\n",
       "3          895         1\n",
       "4          896         1"
      ]
     },
     "execution_count": 37,
     "metadata": {},
     "output_type": "execute_result"
    }
   ],
   "source": [
    "submission.head()"
   ]
  },
  {
   "cell_type": "code",
   "execution_count": 38,
   "id": "cdd7f2eb",
   "metadata": {
    "execution": {
     "iopub.execute_input": "2023-06-29T12:56:30.731444Z",
     "iopub.status.busy": "2023-06-29T12:56:30.730994Z",
     "iopub.status.idle": "2023-06-29T12:56:30.741669Z",
     "shell.execute_reply": "2023-06-29T12:56:30.740777Z"
    },
    "papermill": {
     "duration": 0.03035,
     "end_time": "2023-06-29T12:56:30.743755",
     "exception": false,
     "start_time": "2023-06-29T12:56:30.713405",
     "status": "completed"
    },
    "tags": []
   },
   "outputs": [
    {
     "data": {
      "text/html": [
       "<div>\n",
       "<style scoped>\n",
       "    .dataframe tbody tr th:only-of-type {\n",
       "        vertical-align: middle;\n",
       "    }\n",
       "\n",
       "    .dataframe tbody tr th {\n",
       "        vertical-align: top;\n",
       "    }\n",
       "\n",
       "    .dataframe thead th {\n",
       "        text-align: right;\n",
       "    }\n",
       "</style>\n",
       "<table border=\"1\" class=\"dataframe\">\n",
       "  <thead>\n",
       "    <tr style=\"text-align: right;\">\n",
       "      <th></th>\n",
       "      <th>PassengerId</th>\n",
       "      <th>Survived</th>\n",
       "    </tr>\n",
       "  </thead>\n",
       "  <tbody>\n",
       "    <tr>\n",
       "      <th>413</th>\n",
       "      <td>1305</td>\n",
       "      <td>1</td>\n",
       "    </tr>\n",
       "    <tr>\n",
       "      <th>414</th>\n",
       "      <td>1306</td>\n",
       "      <td>1</td>\n",
       "    </tr>\n",
       "    <tr>\n",
       "      <th>415</th>\n",
       "      <td>1307</td>\n",
       "      <td>1</td>\n",
       "    </tr>\n",
       "    <tr>\n",
       "      <th>416</th>\n",
       "      <td>1308</td>\n",
       "      <td>1</td>\n",
       "    </tr>\n",
       "    <tr>\n",
       "      <th>417</th>\n",
       "      <td>1309</td>\n",
       "      <td>1</td>\n",
       "    </tr>\n",
       "  </tbody>\n",
       "</table>\n",
       "</div>"
      ],
      "text/plain": [
       "     PassengerId  Survived\n",
       "413         1305         1\n",
       "414         1306         1\n",
       "415         1307         1\n",
       "416         1308         1\n",
       "417         1309         1"
      ]
     },
     "execution_count": 38,
     "metadata": {},
     "output_type": "execute_result"
    }
   ],
   "source": [
    "submission.tail()"
   ]
  },
  {
   "cell_type": "code",
   "execution_count": 39,
   "id": "8f98fd79",
   "metadata": {
    "execution": {
     "iopub.execute_input": "2023-06-29T12:56:30.780337Z",
     "iopub.status.busy": "2023-06-29T12:56:30.779208Z",
     "iopub.status.idle": "2023-06-29T12:56:30.788016Z",
     "shell.execute_reply": "2023-06-29T12:56:30.787018Z"
    },
    "papermill": {
     "duration": 0.02899,
     "end_time": "2023-06-29T12:56:30.790228",
     "exception": false,
     "start_time": "2023-06-29T12:56:30.761238",
     "status": "completed"
    },
    "tags": []
   },
   "outputs": [
    {
     "data": {
      "text/plain": [
       "1    418\n",
       "Name: Survived, dtype: int64"
      ]
     },
     "execution_count": 39,
     "metadata": {},
     "output_type": "execute_result"
    }
   ],
   "source": [
    "submission['Survived'].value_counts()"
   ]
  },
  {
   "cell_type": "code",
   "execution_count": 40,
   "id": "cdefc04e",
   "metadata": {
    "execution": {
     "iopub.execute_input": "2023-06-29T12:56:30.827526Z",
     "iopub.status.busy": "2023-06-29T12:56:30.826073Z",
     "iopub.status.idle": "2023-06-29T12:56:30.838015Z",
     "shell.execute_reply": "2023-06-29T12:56:30.837037Z"
    },
    "papermill": {
     "duration": 0.033244,
     "end_time": "2023-06-29T12:56:30.840381",
     "exception": false,
     "start_time": "2023-06-29T12:56:30.807137",
     "status": "completed"
    },
    "tags": []
   },
   "outputs": [],
   "source": [
    "submission.to_csv('submission.csv',index=False)"
   ]
  },
  {
   "cell_type": "code",
   "execution_count": 41,
   "id": "eba0c2d6",
   "metadata": {
    "execution": {
     "iopub.execute_input": "2023-06-29T12:56:30.877415Z",
     "iopub.status.busy": "2023-06-29T12:56:30.876676Z",
     "iopub.status.idle": "2023-06-29T12:56:30.887782Z",
     "shell.execute_reply": "2023-06-29T12:56:30.886981Z"
    },
    "papermill": {
     "duration": 0.032831,
     "end_time": "2023-06-29T12:56:30.889901",
     "exception": false,
     "start_time": "2023-06-29T12:56:30.857070",
     "status": "completed"
    },
    "tags": []
   },
   "outputs": [
    {
     "data": {
      "text/html": [
       "<div>\n",
       "<style scoped>\n",
       "    .dataframe tbody tr th:only-of-type {\n",
       "        vertical-align: middle;\n",
       "    }\n",
       "\n",
       "    .dataframe tbody tr th {\n",
       "        vertical-align: top;\n",
       "    }\n",
       "\n",
       "    .dataframe thead th {\n",
       "        text-align: right;\n",
       "    }\n",
       "</style>\n",
       "<table border=\"1\" class=\"dataframe\">\n",
       "  <thead>\n",
       "    <tr style=\"text-align: right;\">\n",
       "      <th></th>\n",
       "      <th>PassengerId</th>\n",
       "      <th>Survived</th>\n",
       "    </tr>\n",
       "  </thead>\n",
       "  <tbody>\n",
       "    <tr>\n",
       "      <th>0</th>\n",
       "      <td>892</td>\n",
       "      <td>1</td>\n",
       "    </tr>\n",
       "    <tr>\n",
       "      <th>1</th>\n",
       "      <td>893</td>\n",
       "      <td>1</td>\n",
       "    </tr>\n",
       "    <tr>\n",
       "      <th>2</th>\n",
       "      <td>894</td>\n",
       "      <td>1</td>\n",
       "    </tr>\n",
       "    <tr>\n",
       "      <th>3</th>\n",
       "      <td>895</td>\n",
       "      <td>1</td>\n",
       "    </tr>\n",
       "    <tr>\n",
       "      <th>4</th>\n",
       "      <td>896</td>\n",
       "      <td>1</td>\n",
       "    </tr>\n",
       "  </tbody>\n",
       "</table>\n",
       "</div>"
      ],
      "text/plain": [
       "   PassengerId  Survived\n",
       "0          892         1\n",
       "1          893         1\n",
       "2          894         1\n",
       "3          895         1\n",
       "4          896         1"
      ]
     },
     "execution_count": 41,
     "metadata": {},
     "output_type": "execute_result"
    }
   ],
   "source": [
    "file=pd.read_csv('submission.csv')\n",
    "file.head()"
   ]
  }
 ],
 "metadata": {
  "kernelspec": {
   "display_name": "Python 3",
   "language": "python",
   "name": "python3"
  },
  "language_info": {
   "codemirror_mode": {
    "name": "ipython",
    "version": 3
   },
   "file_extension": ".py",
   "mimetype": "text/x-python",
   "name": "python",
   "nbconvert_exporter": "python",
   "pygments_lexer": "ipython3",
   "version": "3.10.10"
  },
  "papermill": {
   "default_parameters": {},
   "duration": 19.618432,
   "end_time": "2023-06-29T12:56:33.310722",
   "environment_variables": {},
   "exception": null,
   "input_path": "__notebook__.ipynb",
   "output_path": "__notebook__.ipynb",
   "parameters": {},
   "start_time": "2023-06-29T12:56:13.692290",
   "version": "2.4.0"
  }
 },
 "nbformat": 4,
 "nbformat_minor": 5
}
